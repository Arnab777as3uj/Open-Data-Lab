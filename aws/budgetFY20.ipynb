{
 "cells": [
  {
   "cell_type": "code",
   "execution_count": 11,
   "metadata": {},
   "outputs": [],
   "source": [
    "COST_PER_TB = 276\n",
    "COST_PER_SM_S = 400 # 2 core, 4 GiB memory\n",
    "COST_PER_SM_M = 1728 # 4 core, 16 Gib memory\n",
    "COST_PER_SM_L = 8760 # 40 core, 160 Gib memory\n",
    "COST_PER_E2 = 45 # nano size"
   ]
  },
  {
   "cell_type": "code",
   "execution_count": 12,
   "metadata": {},
   "outputs": [],
   "source": [
    "def annual_cost(tb=10,sms=0,smm=20,sml=1,e2=1,uptime=0.18):\n",
    "  return COST_PER_TB*tb+uptime*(COST_PER_SM_S*sms+COST_PER_SM_M*smm+COST_PER_SM_L*sml+COST_PER_E2*e2)"
   ]
  },
  {
   "cell_type": "code",
   "execution_count": 13,
   "metadata": {},
   "outputs": [
    {
     "data": {
      "text/plain": [
       "10565.7"
      ]
     },
     "execution_count": 13,
     "metadata": {},
     "output_type": "execute_result"
    }
   ],
   "source": [
    "annual_cost()"
   ]
  },
  {
   "cell_type": "code",
   "execution_count": null,
   "metadata": {},
   "outputs": [],
   "source": [
    "# uptime represents the time the virtual machines are running. we are not charged when they are sleeping."
   ]
  },
  {
   "cell_type": "code",
   "execution_count": 14,
   "metadata": {},
   "outputs": [],
   "source": [
    "# storage\n",
    "#  10 TB is doable      ~  $3,000 / yr\n",
    "# 100 TB is prohibitive ~ $27,000 / yr"
   ]
  },
  {
   "cell_type": "code",
   "execution_count": 15,
   "metadata": {},
   "outputs": [],
   "source": [
    "# computation\n",
    "# most people go through sagemaker, it is just a great product\n",
    "# the cheapest option is basically as powerful as a laptop but it scales\n",
    "# the first cost where it is worth it is 4 core and 16 Gib memory (beefy laptop / desktop)"
   ]
  },
  {
   "cell_type": "code",
   "execution_count": 16,
   "metadata": {},
   "outputs": [],
   "source": [
    "# uptime\n",
    "# storage has 100% uptime and charges by the GB for S3\n",
    "# computation uptime estimates to about 0.18 which corresponds to a researcher using a machine for 30 hours\n",
    "# that includes time where the start the machine running and walk away."
   ]
  },
  {
   "cell_type": "code",
   "execution_count": 19,
   "metadata": {},
   "outputs": [
    {
     "data": {
      "text/plain": [
       "10565.7"
      ]
     },
     "execution_count": 19,
     "metadata": {},
     "output_type": "execute_result"
    }
   ],
   "source": [
    "# Closed beta budget estimate\n",
    "annual_cost(tb=10,smm=20,sml=1,e2=1,uptime=0.18)"
   ]
  },
  {
   "cell_type": "code",
   "execution_count": 20,
   "metadata": {},
   "outputs": [],
   "source": [
    "# Open beta budget estimate\n",
    "# 1. requires a staff position whose primary responsibility is ODL (this is in addition to Pete) - please advise on cost\n",
    "# 2. base off of closed beta just larger, eg if twice as sucessful then $20,000"
   ]
  },
  {
   "cell_type": "code",
   "execution_count": 21,
   "metadata": {},
   "outputs": [
    {
     "data": {
      "text/plain": [
       "21131.4"
      ]
     },
     "execution_count": 21,
     "metadata": {},
     "output_type": "execute_result"
    }
   ],
   "source": [
    "# Open beta budget estimate\n",
    "annual_cost(tb=10,smm=20,sml=1,e2=1,uptime=0.18)*2."
   ]
  },
  {
   "cell_type": "code",
   "execution_count": 30,
   "metadata": {},
   "outputs": [
    {
     "name": "stdout",
     "output_type": "stream",
     "text": [
      "$3765.0\n"
     ]
    }
   ],
   "source": [
    "STORAGE_IN_TB = 1\n",
    "USERGROUP_TINY = 1\n",
    "USERGROUP_NORMAL = 5\n",
    "USERGROUP_SUPER = 1\n",
    "UPTIME = 0.2\n",
    "print(\"$\"+str(annual_cost(tb=STORAGE_IN_TB,e2=USERGROUP_TINY,smm=USERGROUP_NORMAL,sml=USERGROUP_SUPER,uptime=UPTIME)))"
   ]
  },
  {
   "cell_type": "code",
   "execution_count": null,
   "metadata": {},
   "outputs": [],
   "source": []
  }
 ],
 "metadata": {
  "kernelspec": {
   "display_name": "conda_python3",
   "language": "python",
   "name": "conda_python3"
  },
  "language_info": {
   "codemirror_mode": {
    "name": "ipython",
    "version": 3
   },
   "file_extension": ".py",
   "mimetype": "text/x-python",
   "name": "python",
   "nbconvert_exporter": "python",
   "pygments_lexer": "ipython3",
   "version": "3.6.5"
  }
 },
 "nbformat": 4,
 "nbformat_minor": 2
}
